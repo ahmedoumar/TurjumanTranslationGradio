{
  "nbformat": 4,
  "nbformat_minor": 0,
  "metadata": {
    "colab": {
      "name": "TurjumanDemo",
      "provenance": [],
      "collapsed_sections": []
    },
    "kernelspec": {
      "name": "python3",
      "display_name": "Python 3"
    },
    "language_info": {
      "name": "python"
    }
  },
  "cells": [
    {
      "cell_type": "code",
      "execution_count": null,
      "metadata": {
        "id": "EjAztLojIgrx"
      },
      "outputs": [],
      "source": [
        "# Installing dependencies\n",
        "!pip install gradio \n",
        "!pip install turjuman transformers\n"
      ]
    },
    {
      "cell_type": "code",
      "source": [
        "# Import our modules \n",
        "import gradio as gr\n",
        "from turjuman import turjuman \n",
        "import logging\n",
        "import os\n",
        "from transformers import AutoTokenizer"
      ],
      "metadata": {
        "id": "2KTG-tO7Iqs9"
      },
      "execution_count": 2,
      "outputs": []
    },
    {
      "cell_type": "code",
      "source": [
        "logging.basicConfig(\n",
        "    format=\"%(asctime)s | %(levelname)s | %(name)s | %(message)s\",\n",
        "    datefmt=\"%Y-%m-%d %H:%M:%S\",\n",
        "    level=os.environ.get(\"LOGLEVEL\", \"INFO\").upper(),\n",
        ")\n",
        "logger = logging.getLogger(\"turjuman.translate\")\n",
        "cache_dir=\"/content/mycache\""
      ],
      "metadata": {
        "id": "xOQBo-JXJ14u"
      },
      "execution_count": 16,
      "outputs": []
    },
    {
      "cell_type": "code",
      "source": [
        "# Get the turjuman object and its tokenizer\n",
        "turj = turjuman.turjuman(logger, cache_dir)\n",
        "tokenizer = AutoTokenizer.from_pretrained('UBC-NLP/AraT5-base-title-generation')"
      ],
      "metadata": {
        "colab": {
          "base_uri": "https://localhost:8080/"
        },
        "id": "GIOfv6Z3J5Jz",
        "outputId": "aa587ba9-a7bc-456d-e996-7a843559cbf2"
      },
      "execution_count": 17,
      "outputs": [
        {
          "output_type": "stream",
          "name": "stderr",
          "text": [
            "2022-07-08 10:21:41 | INFO | turjuman.translate | Loading model from UBC-NLP/turjuman\n",
            "2022-07-08 10:21:51 | INFO | turjuman.translate | Run the model with CPU\n"
          ]
        }
      ]
    },
    {
      "cell_type": "code",
      "source": [
        "# The translate function\n",
        "def translate(sent):\n",
        "    beam_options = {\"search_method\":\"beam\", \"seq_length\": 300, \"num_beams\":5, \"no_repeat_ngram_size\":2, \"max_outputs\":1}\n",
        "    targets = turj.translate(sent,**beam_options)\n",
        "    #print(targets)\n",
        "    ans = \"\"\n",
        "    for target in targets:\n",
        "        target = tokenizer.decode(target, skip_special_tokens=True, clean_up_tokenization_spaces=True)\n",
        "        ans += target\n",
        "    return ans\n",
        "\n",
        "print(translate('Здравствуй, друг'))"
      ],
      "metadata": {
        "colab": {
          "base_uri": "https://localhost:8080/"
        },
        "id": "IgE4iCTuJJSR",
        "outputId": "7687bd6a-c896-4915-ec61-a60218a267cb"
      },
      "execution_count": 5,
      "outputs": [
        {
          "output_type": "stream",
          "name": "stderr",
          "text": [
            "2022-07-08 09:36:27 | INFO | turjuman.translate | Using beam search\n"
          ]
        },
        {
          "output_type": "stream",
          "name": "stdout",
          "text": [
            "مرحبا ، يا رجل.\n"
          ]
        }
      ]
    },
    {
      "cell_type": "code",
      "source": [
        "interface = gr.Interface(fn=translate, inputs=['text'], outputs=['text'],\n",
        "             allow_flagging=False,\n",
        "             title='Turjuman Multi-lingual Translation',\n",
        "             description='Please write the sentence you are trying to translate',\n",
        "             css=\"\"\"\n",
        "             .chatbox{display:flex; flex-direction-column}\n",
        "             .user_msg, resp_msg {padding: 4px;margin-bottom:4px;border-radius:4px; width:80%}\n",
        "             .user_msg {background-color:cornflowerblue; color:white; align-self:start}\n",
        "             .resp_msg {background-color:lightgray; align-self: self-end}\n",
        "             \"\"\")\n",
        "\n",
        "interface.launch()"
      ],
      "metadata": {
        "colab": {
          "base_uri": "https://localhost:8080/",
          "height": 732
        },
        "id": "zEXvjY2KPlDQ",
        "outputId": "9ce9a468-73f5-4d32-c2b1-ae05182cf966"
      },
      "execution_count": 11,
      "outputs": [
        {
          "output_type": "stream",
          "name": "stderr",
          "text": [
            "/usr/local/lib/python3.7/dist-packages/gradio/interface.py:366: UserWarning: The `allow_flagging` parameter in `Interface` nowtakes a string value ('auto', 'manual', or 'never'), not a boolean. Setting parameter to: 'never'.\n",
            "  \"The `allow_flagging` parameter in `Interface` now\"\n"
          ]
        },
        {
          "output_type": "stream",
          "name": "stdout",
          "text": [
            "Colab notebook detected. To show errors in colab notebook, set `debug=True` in `launch()`\n"
          ]
        },
        {
          "output_type": "stream",
          "name": "stderr",
          "text": [
            "2022-07-08 09:43:57 | INFO | paramiko.transport | Connected (version 2.0, client OpenSSH_7.6p1)\n",
            "2022-07-08 09:43:57 | INFO | paramiko.transport | Authentication (publickey) successful!\n"
          ]
        },
        {
          "output_type": "stream",
          "name": "stdout",
          "text": [
            "Running on public URL: https://12651.gradio.app\n",
            "\n",
            "This share link expires in 72 hours. For free permanent hosting, check out Spaces (https://huggingface.co/spaces)\n"
          ]
        },
        {
          "output_type": "display_data",
          "data": {
            "text/plain": [
              "<IPython.core.display.HTML object>"
            ],
            "text/html": [
              "<div><iframe src=\"https://12651.gradio.app\" width=\"900\" height=\"500\" allow=\"autoplay; camera; microphone;\" frameborder=\"0\" allowfullscreen></iframe></div>"
            ]
          },
          "metadata": {}
        },
        {
          "output_type": "execute_result",
          "data": {
            "text/plain": [
              "(<gradio.routes.App at 0x7fa8a3d93050>,\n",
              " 'http://127.0.0.1:7862/',\n",
              " 'https://12651.gradio.app')"
            ]
          },
          "metadata": {},
          "execution_count": 11
        }
      ]
    },
    {
      "cell_type": "code",
      "source": [
        ""
      ],
      "metadata": {
        "id": "2bbNurjUZehn"
      },
      "execution_count": null,
      "outputs": []
    }
  ]
}